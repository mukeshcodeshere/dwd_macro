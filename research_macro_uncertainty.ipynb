{
 "cells": [
  {
   "cell_type": "markdown",
   "metadata": {},
   "source": [
    "# Macro research topic 1\n",
    "## Quantifying geopolitical uncertainty that isn’t yet reflected in the markets\n"
   ]
  },
  {
   "cell_type": "markdown",
   "metadata": {},
   "source": [
    "### Introduction"
   ]
  },
  {
   "cell_type": "markdown",
   "metadata": {},
   "source": [
    "-  The world is currently experiencing more conflicts than at any time since the post-9/11 Iraq war.\n",
    "-  I believe the risk of nuclear war is at its highest level since the Cold War.\n",
    "-  Despite these risks, the S&P 500 keeps reaching new highs, driven by the ChatGPT initiated tech boom.\n",
    "-  Markets seem aware of war risks, as shown by Bitcoin's quick drop when Iran attacked Israel with war drones. S&P 500 did not reflect this drop as it was a Sunday.\n",
    "-  This leads me to believe that that markets believe AI's economic benefits outweigh the potential negative impacts of war.\n",
    "-  This study aims to:\n",
    "  1. Measure the positive effects of AI and negative effects of war on the economy\n",
    "  2. Analyze how these 2 factors are currently priced into markets\n",
    "  3. Compare the current situations with the 2000 tech boom and Cold War era to identify possible future scenarios."
   ]
  },
  {
   "cell_type": "code",
   "execution_count": 5,
   "metadata": {},
   "outputs": [
    {
     "name": "stderr",
     "output_type": "stream",
     "text": [
      "/Users/mukeshwaranbaskaran/anaconda3/envs/HW2/lib/python3.12/site-packages/yahooquery/utils/__init__.py:1470: FutureWarning: 'S' is deprecated and will be removed in a future version. Please use 's' instead of 'S'.\n",
      "  has_live_indice = index_utc[-1] >= last_trade - pd.Timedelta(2, \"S\")\n"
     ]
    },
    {
     "name": "stdout",
     "output_type": "stream",
     "text": [
      "Data for ^DJI:\n",
      "                          open         high          low        close  \\\n",
      "symbol date                                                             \n",
      "^DJI   1992-01-02  3152.100098  3172.629883  3139.310059  3172.399902   \n",
      "       1992-01-03  3172.399902  3210.639893  3165.919922  3201.500000   \n",
      "\n",
      "                     volume     adjclose  \n",
      "symbol date                               \n",
      "^DJI   1992-01-02  23550000  3172.399902  \n",
      "       1992-01-03  23620000  3201.500000  \n",
      "\n",
      "\n"
     ]
    },
    {
     "name": "stderr",
     "output_type": "stream",
     "text": [
      "/Users/mukeshwaranbaskaran/anaconda3/envs/HW2/lib/python3.12/site-packages/yahooquery/utils/__init__.py:1470: FutureWarning: 'S' is deprecated and will be removed in a future version. Please use 's' instead of 'S'.\n",
      "  has_live_indice = index_utc[-1] >= last_trade - pd.Timedelta(2, \"S\")\n"
     ]
    },
    {
     "name": "stdout",
     "output_type": "stream",
     "text": [
      "Data for ^DJUS:\n",
      "                         open        high         low       close      volume  \\\n",
      "symbol date                                                                     \n",
      "^DJUS  2000-02-14  327.290009  329.179993  322.260010  327.940002  15448600.0   \n",
      "       2000-02-15  327.890015  331.609985  324.190002  330.339996  18067700.0   \n",
      "\n",
      "                     adjclose  \n",
      "symbol date                    \n",
      "^DJUS  2000-02-14  327.940002  \n",
      "       2000-02-15  330.339996  \n",
      "\n",
      "\n"
     ]
    },
    {
     "name": "stderr",
     "output_type": "stream",
     "text": [
      "/Users/mukeshwaranbaskaran/anaconda3/envs/HW2/lib/python3.12/site-packages/yahooquery/utils/__init__.py:1470: FutureWarning: 'S' is deprecated and will be removed in a future version. Please use 's' instead of 'S'.\n",
      "  has_live_indice = index_utc[-1] >= last_trade - pd.Timedelta(2, \"S\")\n"
     ]
    },
    {
     "name": "stdout",
     "output_type": "stream",
     "text": [
      "Data for ^DWCF:\n",
      "                         open        high         low       close  volume  \\\n",
      "symbol date                                                                 \n",
      "^DWCF  1970-12-31  830.270020  830.270020  830.270020  830.270020     0.0   \n",
      "       1971-01-29  873.309998  873.309998  873.309998  873.309998     0.0   \n",
      "\n",
      "                     adjclose  \n",
      "symbol date                    \n",
      "^DWCF  1970-12-31  830.270020  \n",
      "       1971-01-29  873.309998  \n",
      "\n",
      "\n"
     ]
    },
    {
     "name": "stderr",
     "output_type": "stream",
     "text": [
      "/Users/mukeshwaranbaskaran/anaconda3/envs/HW2/lib/python3.12/site-packages/yahooquery/utils/__init__.py:1470: FutureWarning: 'S' is deprecated and will be removed in a future version. Please use 's' instead of 'S'.\n",
      "  has_live_indice = index_utc[-1] >= last_trade - pd.Timedelta(2, \"S\")\n"
     ]
    },
    {
     "name": "stdout",
     "output_type": "stream",
     "text": [
      "Data for CL=F:\n",
      "                        open       high        low      close   volume  \\\n",
      "symbol date                                                              \n",
      "CL=F   2000-08-23  31.950001  32.799999  31.950001  32.049999  79385.0   \n",
      "       2000-08-24  31.900000  32.240002  31.400000  31.629999  72978.0   \n",
      "\n",
      "                    adjclose  \n",
      "symbol date                   \n",
      "CL=F   2000-08-23  32.049999  \n",
      "       2000-08-24  31.629999  \n",
      "\n",
      "\n"
     ]
    },
    {
     "name": "stderr",
     "output_type": "stream",
     "text": [
      "/Users/mukeshwaranbaskaran/anaconda3/envs/HW2/lib/python3.12/site-packages/yahooquery/utils/__init__.py:1470: FutureWarning: 'S' is deprecated and will be removed in a future version. Please use 's' instead of 'S'.\n",
      "  has_live_indice = index_utc[-1] >= last_trade - pd.Timedelta(2, \"S\")\n"
     ]
    },
    {
     "name": "stdout",
     "output_type": "stream",
     "text": [
      "Data for BZ=F:\n",
      "                        open       high        low      close  volume  \\\n",
      "symbol date                                                             \n",
      "BZ=F   2007-07-30  75.849998  76.529999  75.440002  75.739998  2575.0   \n",
      "       2007-07-31  75.699997  77.169998  75.669998  77.050003  3513.0   \n",
      "\n",
      "                    adjclose  \n",
      "symbol date                   \n",
      "BZ=F   2007-07-30  75.739998  \n",
      "       2007-07-31  77.050003  \n",
      "\n",
      "\n"
     ]
    },
    {
     "name": "stderr",
     "output_type": "stream",
     "text": [
      "/Users/mukeshwaranbaskaran/anaconda3/envs/HW2/lib/python3.12/site-packages/yahooquery/utils/__init__.py:1470: FutureWarning: 'S' is deprecated and will be removed in a future version. Please use 's' instead of 'S'.\n",
      "  has_live_indice = index_utc[-1] >= last_trade - pd.Timedelta(2, \"S\")\n"
     ]
    },
    {
     "name": "stdout",
     "output_type": "stream",
     "text": [
      "Data for BTC-USD:\n",
      "                          open        high         low       close  \\\n",
      "symbol  date                                                         \n",
      "BTC-USD 2014-09-17  465.864014  468.174011  452.421997  457.334015   \n",
      "        2014-09-18  456.859985  456.859985  413.104004  424.440002   \n",
      "\n",
      "                        volume    adjclose  \n",
      "symbol  date                                \n",
      "BTC-USD 2014-09-17  21056800.0  457.334015  \n",
      "        2014-09-18  34483200.0  424.440002  \n",
      "\n",
      "\n"
     ]
    },
    {
     "name": "stderr",
     "output_type": "stream",
     "text": [
      "/Users/mukeshwaranbaskaran/anaconda3/envs/HW2/lib/python3.12/site-packages/yahooquery/utils/__init__.py:1470: FutureWarning: 'S' is deprecated and will be removed in a future version. Please use 's' instead of 'S'.\n",
      "  has_live_indice = index_utc[-1] >= last_trade - pd.Timedelta(2, \"S\")\n",
      "/Users/mukeshwaranbaskaran/anaconda3/envs/HW2/lib/python3.12/site-packages/yahooquery/ticker.py:1333: FutureWarning: A value is trying to be set on a copy of a DataFrame or Series through chained assignment using an inplace method.\n",
      "The behavior will change in pandas 3.0. This inplace method will never work because the intermediate object on which we are setting values always behaves as a copy.\n",
      "\n",
      "For example, when doing 'df[col].method(value, inplace=True)', try using 'df.method({col: value}, inplace=True)' or df[col] = df[col].method(value) instead, to perform the operation inplace on the original object.\n",
      "\n",
      "\n",
      "  df[\"dividends\"].fillna(0, inplace=True)\n",
      "/Users/mukeshwaranbaskaran/anaconda3/envs/HW2/lib/python3.12/site-packages/yahooquery/ticker.py:1335: FutureWarning: A value is trying to be set on a copy of a DataFrame or Series through chained assignment using an inplace method.\n",
      "The behavior will change in pandas 3.0. This inplace method will never work because the intermediate object on which we are setting values always behaves as a copy.\n",
      "\n",
      "For example, when doing 'df[col].method(value, inplace=True)', try using 'df.method({col: value}, inplace=True)' or df[col] = df[col].method(value) instead, to perform the operation inplace on the original object.\n",
      "\n",
      "\n",
      "  df[\"splits\"].fillna(0, inplace=True)\n"
     ]
    },
    {
     "name": "stdout",
     "output_type": "stream",
     "text": [
      "Data for NVDA:\n",
      "                       open      high       low     close      volume  \\\n",
      "symbol date                                                             \n",
      "NVDA   1999-01-22  0.043750  0.048828  0.038802  0.041016  2714688000   \n",
      "       1999-01-25  0.044271  0.045833  0.041016  0.045313   510480000   \n",
      "\n",
      "                   adjclose  dividends  splits  \n",
      "symbol date                                     \n",
      "NVDA   1999-01-22  0.037615        0.0     0.0  \n",
      "       1999-01-25  0.041556        0.0     0.0  \n",
      "\n",
      "\n"
     ]
    },
    {
     "name": "stderr",
     "output_type": "stream",
     "text": [
      "/Users/mukeshwaranbaskaran/anaconda3/envs/HW2/lib/python3.12/site-packages/yahooquery/utils/__init__.py:1470: FutureWarning: 'S' is deprecated and will be removed in a future version. Please use 's' instead of 'S'.\n",
      "  has_live_indice = index_utc[-1] >= last_trade - pd.Timedelta(2, \"S\")\n"
     ]
    },
    {
     "name": "stdout",
     "output_type": "stream",
     "text": [
      "Data for ^GSPC:\n",
      "                   open  high   low  close  volume  adjclose\n",
      "symbol date                                                 \n",
      "^GSPC  1942-01-02  8.89  8.89  8.89   8.89       0      8.89\n",
      "       1942-01-05  9.09  9.09  9.09   9.09       0      9.09\n",
      "\n",
      "\n"
     ]
    },
    {
     "name": "stderr",
     "output_type": "stream",
     "text": [
      "/Users/mukeshwaranbaskaran/anaconda3/envs/HW2/lib/python3.12/site-packages/yahooquery/utils/__init__.py:1470: FutureWarning: 'S' is deprecated and will be removed in a future version. Please use 's' instead of 'S'.\n",
      "  has_live_indice = index_utc[-1] >= last_trade - pd.Timedelta(2, \"S\")\n"
     ]
    },
    {
     "name": "stdout",
     "output_type": "stream",
     "text": [
      "Data for ^TNX:\n",
      "                   open  high   low  close  volume  adjclose\n",
      "symbol date                                                 \n",
      "^TNX   1962-01-02  4.06  4.06  4.06   4.06     0.0      4.06\n",
      "       1962-01-03  4.03  4.03  4.03   4.03     0.0      4.03\n",
      "\n",
      "\n"
     ]
    },
    {
     "name": "stderr",
     "output_type": "stream",
     "text": [
      "/Users/mukeshwaranbaskaran/anaconda3/envs/HW2/lib/python3.12/site-packages/yahooquery/utils/__init__.py:1470: FutureWarning: 'S' is deprecated and will be removed in a future version. Please use 's' instead of 'S'.\n",
      "  has_live_indice = index_utc[-1] >= last_trade - pd.Timedelta(2, \"S\")\n"
     ]
    },
    {
     "name": "stdout",
     "output_type": "stream",
     "text": [
      "Data for ^TYX:\n",
      "                   open  high   low  close  volume  adjclose\n",
      "symbol date                                                 \n",
      "^TYX   1977-02-15  7.70  7.70  7.70   7.70     0.0      7.70\n",
      "       1977-02-16  7.67  7.67  7.67   7.67     0.0      7.67\n",
      "\n",
      "\n"
     ]
    },
    {
     "name": "stderr",
     "output_type": "stream",
     "text": [
      "/Users/mukeshwaranbaskaran/anaconda3/envs/HW2/lib/python3.12/site-packages/yahooquery/utils/__init__.py:1470: FutureWarning: 'S' is deprecated and will be removed in a future version. Please use 's' instead of 'S'.\n",
      "  has_live_indice = index_utc[-1] >= last_trade - pd.Timedelta(2, \"S\")\n"
     ]
    },
    {
     "name": "stdout",
     "output_type": "stream",
     "text": [
      "Data for ^FVX:\n",
      "                   open  high   low  close  volume  adjclose\n",
      "symbol date                                                 \n",
      "^FVX   1962-01-02  3.88  3.88  3.88   3.88     0.0      3.88\n",
      "       1962-01-03  3.87  3.87  3.87   3.87     0.0      3.87\n",
      "\n",
      "\n"
     ]
    },
    {
     "name": "stderr",
     "output_type": "stream",
     "text": [
      "/Users/mukeshwaranbaskaran/anaconda3/envs/HW2/lib/python3.12/site-packages/yahooquery/utils/__init__.py:1470: FutureWarning: 'S' is deprecated and will be removed in a future version. Please use 's' instead of 'S'.\n",
      "  has_live_indice = index_utc[-1] >= last_trade - pd.Timedelta(2, \"S\")\n"
     ]
    },
    {
     "name": "stdout",
     "output_type": "stream",
     "text": [
      "Data for ^IRX:\n",
      "                   open  high   low  close  volume  adjclose\n",
      "symbol date                                                 \n",
      "^IRX   1960-01-04  4.52  4.52  4.52   4.52     0.0      4.52\n",
      "       1960-01-05  4.55  4.55  4.55   4.55     0.0      4.55\n",
      "\n",
      "\n",
      "Data for ^TYX-^TNX:\n",
      "Empty DataFrame\n",
      "Columns: [high, low, volume, open, close]\n",
      "Index: []\n",
      "\n",
      "\n",
      "Data for USSFCT10:\n",
      "Empty DataFrame\n",
      "Columns: [high, low, volume, open, close]\n",
      "Index: []\n",
      "\n",
      "\n",
      "Data for UXYAISPS:\n",
      "Empty DataFrame\n",
      "Columns: [high, low, volume, open, close]\n",
      "Index: []\n",
      "\n",
      "\n",
      "Data for YIYUXY:\n",
      "Empty DataFrame\n",
      "Columns: [high, low, volume, open, close]\n",
      "Index: []\n",
      "\n",
      "\n",
      "Data for SRATEUSD6M.ME:\n",
      "                                           open    high     low   close  \\\n",
      "symbol        date                                                        \n",
      "SRATEUSD6M.ME 2018-07-27 23:54:59+03:00  1.1429  1.1429  1.1429  1.1429   \n",
      "\n",
      "                                         volume  adjclose  \n",
      "symbol        date                                         \n",
      "SRATEUSD6M.ME 2018-07-27 23:54:59+03:00       0    1.1429  \n",
      "\n",
      "\n"
     ]
    },
    {
     "name": "stderr",
     "output_type": "stream",
     "text": [
      "/Users/mukeshwaranbaskaran/anaconda3/envs/HW2/lib/python3.12/site-packages/yahooquery/utils/__init__.py:1470: FutureWarning: 'S' is deprecated and will be removed in a future version. Please use 's' instead of 'S'.\n",
      "  has_live_indice = index_utc[-1] >= last_trade - pd.Timedelta(2, \"S\")\n"
     ]
    }
   ],
   "source": [
    "import pandas as pd\n",
    "from yahooquery import Ticker\n",
    "\n",
    "tickers = [\n",
    "    \"^DJI\",    # Dow Jones Industrial Average\n",
    "    \"^DJUS\",   # Dow Jones U.S. Total Stock Market Index\n",
    "    \"^DWCF\",   # Dow Jones Total Stock Market Index\n",
    "    \"CL=F\",    # WTI Crude Oil\n",
    "    \"BZ=F\",    # Brent Crude Oil\n",
    "    \"BTC-USD\", # BTC\n",
    "    \"NVDA\",    # NVIDIA\n",
    "    \"^GSPC\",   # S&P 500\n",
    "    \"^TNX\",    # 10-Year Treasury Yield\n",
    "    \"^TYX\",    # 30-Year Treasury Yield\n",
    "    \"^FVX\",    # 5-Year Treasury Yield\n",
    "    \"^IRX\",    # 13-Week Treasury Bill Yield\n",
    "]\n",
    "\n",
    "for ticker in tickers:\n",
    "    data = Ticker(ticker)\n",
    "    history = data.history(period=\"max\")\n",
    "    print(f\"Data for {ticker}:\")\n",
    "    print(history.head(2))\n",
    "    print(\"\\n\")\n"
   ]
  },
  {
   "cell_type": "code",
   "execution_count": null,
   "metadata": {},
   "outputs": [],
   "source": []
  }
 ],
 "metadata": {
  "kernelspec": {
   "display_name": "HW2",
   "language": "python",
   "name": "python3"
  },
  "language_info": {
   "codemirror_mode": {
    "name": "ipython",
    "version": 3
   },
   "file_extension": ".py",
   "mimetype": "text/x-python",
   "name": "python",
   "nbconvert_exporter": "python",
   "pygments_lexer": "ipython3",
   "version": "3.12.3"
  }
 },
 "nbformat": 4,
 "nbformat_minor": 2
}
